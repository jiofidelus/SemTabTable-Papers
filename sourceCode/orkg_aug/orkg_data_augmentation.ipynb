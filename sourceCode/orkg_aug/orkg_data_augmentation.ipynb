{
  "nbformat": 4,
  "nbformat_minor": 0,
  "metadata": {
    "colab": {
      "provenance": []
    },
    "kernelspec": {
      "name": "python3",
      "display_name": "Python 3"
    },
    "language_info": {
      "name": "python"
    }
  },
  "cells": [
    {
      "cell_type": "markdown",
      "source": [
        "NLPAUG installation"
      ],
      "metadata": {
        "id": "zm0x_WokPGSH"
      }
    },
    {
      "cell_type": "code",
      "execution_count": null,
      "metadata": {
        "id": "Uv7sJnDLO0PI",
        "colab": {
          "base_uri": "https://localhost:8080/"
        },
        "outputId": "b124b3ab-2692-46c0-9848-76ab7676e87b"
      },
      "outputs": [
        {
          "output_type": "stream",
          "name": "stdout",
          "text": [
            "Requirement already satisfied: numpy in /usr/local/lib/python3.10/dist-packages (1.22.4)\n",
            "Requirement already satisfied: requests in /usr/local/lib/python3.10/dist-packages (2.27.1)\n",
            "Requirement already satisfied: nlpaug in /usr/local/lib/python3.10/dist-packages (1.1.11)\n",
            "Requirement already satisfied: urllib3<1.27,>=1.21.1 in /usr/local/lib/python3.10/dist-packages (from requests) (1.26.16)\n",
            "Requirement already satisfied: certifi>=2017.4.17 in /usr/local/lib/python3.10/dist-packages (from requests) (2023.5.7)\n",
            "Requirement already satisfied: charset-normalizer~=2.0.0 in /usr/local/lib/python3.10/dist-packages (from requests) (2.0.12)\n",
            "Requirement already satisfied: idna<4,>=2.5 in /usr/local/lib/python3.10/dist-packages (from requests) (3.4)\n",
            "Requirement already satisfied: pandas>=1.2.0 in /usr/local/lib/python3.10/dist-packages (from nlpaug) (1.5.3)\n",
            "Requirement already satisfied: gdown>=4.0.0 in /usr/local/lib/python3.10/dist-packages (from nlpaug) (4.6.6)\n",
            "Requirement already satisfied: filelock in /usr/local/lib/python3.10/dist-packages (from gdown>=4.0.0->nlpaug) (3.12.2)\n",
            "Requirement already satisfied: six in /usr/local/lib/python3.10/dist-packages (from gdown>=4.0.0->nlpaug) (1.16.0)\n",
            "Requirement already satisfied: tqdm in /usr/local/lib/python3.10/dist-packages (from gdown>=4.0.0->nlpaug) (4.65.0)\n",
            "Requirement already satisfied: beautifulsoup4 in /usr/local/lib/python3.10/dist-packages (from gdown>=4.0.0->nlpaug) (4.11.2)\n",
            "Requirement already satisfied: python-dateutil>=2.8.1 in /usr/local/lib/python3.10/dist-packages (from pandas>=1.2.0->nlpaug) (2.8.2)\n",
            "Requirement already satisfied: pytz>=2020.1 in /usr/local/lib/python3.10/dist-packages (from pandas>=1.2.0->nlpaug) (2022.7.1)\n",
            "Requirement already satisfied: soupsieve>1.2 in /usr/local/lib/python3.10/dist-packages (from beautifulsoup4->gdown>=4.0.0->nlpaug) (2.4.1)\n",
            "Requirement already satisfied: PySocks!=1.5.7,>=1.5.6 in /usr/local/lib/python3.10/dist-packages (from requests) (1.7.1)\n"
          ]
        }
      ],
      "source": [
        "!pip install numpy requests nlpaug\n",
        "!pip install nltk>=3.4.5\n",
        "!pip install simpletransformers>=0.61.10"
      ]
    },
    {
      "cell_type": "markdown",
      "source": [
        "Others dependencies installation (pandas)"
      ],
      "metadata": {
        "id": "kEJg8I9okpIq"
      }
    },
    {
      "cell_type": "code",
      "source": [
        "!pip install pandas"
      ],
      "metadata": {
        "colab": {
          "base_uri": "https://localhost:8080/"
        },
        "id": "UXumZcTpkt3T",
        "outputId": "4d6f094c-481b-4c45-aa1b-3948e0ae09a0"
      },
      "execution_count": null,
      "outputs": [
        {
          "output_type": "stream",
          "name": "stdout",
          "text": [
            "Requirement already satisfied: pandas in /usr/local/lib/python3.10/dist-packages (1.5.3)\n",
            "Requirement already satisfied: python-dateutil>=2.8.1 in /usr/local/lib/python3.10/dist-packages (from pandas) (2.8.2)\n",
            "Requirement already satisfied: pytz>=2020.1 in /usr/local/lib/python3.10/dist-packages (from pandas) (2022.7.1)\n",
            "Requirement already satisfied: numpy>=1.21.0 in /usr/local/lib/python3.10/dist-packages (from pandas) (1.22.4)\n",
            "Requirement already satisfied: six>=1.5 in /usr/local/lib/python3.10/dist-packages (from python-dateutil>=2.8.1->pandas) (1.16.0)\n"
          ]
        }
      ]
    },
    {
      "cell_type": "markdown",
      "source": [
        "Mounting google drive folder"
      ],
      "metadata": {
        "id": "rYLQBsavPpCv"
      }
    },
    {
      "cell_type": "code",
      "source": [
        "from google.colab import drive\n",
        "drive.mount('/content/drive')"
      ],
      "metadata": {
        "id": "w8ZvFXcZPt3u",
        "colab": {
          "base_uri": "https://localhost:8080/"
        },
        "outputId": "edcd7762-fb77-44d4-d64e-c9fdb969fbeb"
      },
      "execution_count": null,
      "outputs": [
        {
          "output_type": "stream",
          "name": "stdout",
          "text": [
            "Drive already mounted at /content/drive; to attempt to forcibly remount, call drive.mount(\"/content/drive\", force_remount=True).\n"
          ]
        }
      ]
    },
    {
      "cell_type": "markdown",
      "source": [
        "Dependencies import"
      ],
      "metadata": {
        "id": "gwSjk89On89P"
      }
    },
    {
      "cell_type": "code",
      "source": [
        "import os\n",
        "import pandas\n",
        "import shutil"
      ],
      "metadata": {
        "id": "2XbipdhIn36s"
      },
      "execution_count": null,
      "outputs": []
    },
    {
      "cell_type": "markdown",
      "source": [
        "Predefining importation methods"
      ],
      "metadata": {
        "id": "gudWFWzPqgKu"
      }
    },
    {
      "cell_type": "code",
      "source": [
        "def augment(value, augmenter):\n",
        "  if augmenter['datatype'] == float or augmenter['datatype'] == int:\n",
        "    try:\n",
        "      float(value)\n",
        "      return augmenter['method'].augment(value)[0]\n",
        "    except:\n",
        "      return value\n",
        "  else:\n",
        "    if value != 'nan':\n",
        "      return augmenter['method'].augment(value)[0]\n",
        "    else:\n",
        "      return value"
      ],
      "metadata": {
        "id": "kFaRl30Nqfa4"
      },
      "execution_count": null,
      "outputs": []
    },
    {
      "cell_type": "markdown",
      "source": [
        "Constants defining"
      ],
      "metadata": {
        "id": "bNwWiZtW6YqX"
      }
    },
    {
      "cell_type": "code",
      "source": [
        "root_annotation_folder =  \"/content/drive/MyDrive/ORKG extraction - Aug/annotations\"\n"
      ],
      "metadata": {
        "id": "FUJE6-y56XX8"
      },
      "execution_count": null,
      "outputs": []
    },
    {
      "cell_type": "markdown",
      "source": [
        "Augmeneters defining\n",
        "\n",
        "Each augmenter is defined by\n",
        "\n",
        "\n",
        "* A prefix, which serves to name the folder containing the files resulting from the augmentation\n",
        "* The proper augmentation method\n",
        "* The datatype on which the method must be ran"
      ],
      "metadata": {
        "id": "srYvzPlcDvmU"
      }
    },
    {
      "cell_type": "code",
      "source": [
        "import nlpaug.augmenter.char as nac\n",
        "import nlpaug.augmenter.word as naw\n",
        "import nlpaug.augmenter.sentence as nas\n",
        "import nlpaug.flow as nafc\n",
        "os.environ[\"MODEL_DIR\"] = '../model'\n",
        "\n",
        "from nlpaug.util import Action\n",
        "\n",
        "augmenters = [\n",
        "    {'prefix': 'ocr_1', 'method': nac.OcrAug(), 'datatype': str},\n",
        "    {'prefix': 'ocr_2', 'method': nac.OcrAug(), 'datatype': str},\n",
        "    {'prefix': 'key_1', 'method': nac.KeyboardAug(), 'datatype': str},\n",
        "    {'prefix': 'key_2', 'method': nac.KeyboardAug(), 'datatype': str},\n",
        "    {'prefix': 'key_3', 'method': nac.KeyboardAug(), 'datatype': str},\n",
        "    {'prefix': 'rnd_ins', 'method': nac.RandomCharAug(action=\"insert\"), 'datatype': str},\n",
        "    {'prefix': 'rnd_sub', 'method': nac.RandomCharAug(action=\"substitute\"), 'datatype': str},\n",
        "    {'prefix': 'rnd_swp', 'method': nac.RandomCharAug(action=\"swap\"), 'datatype': str},\n",
        "    {'prefix': 'rnd_del', 'method': nac.RandomCharAug(action=\"delete\"), 'datatype': str},\n",
        "    {'prefix': 'wrd', 'method': naw.SpellingAug(), 'datatype': str},\n",
        "        ]"
      ],
      "metadata": {
        "id": "NgZr3KX-Dzdp"
      },
      "execution_count": null,
      "outputs": []
    },
    {
      "cell_type": "markdown",
      "source": [
        "Augmented dataframe saving method"
      ],
      "metadata": {
        "id": "rsPKECnU5mf4"
      }
    },
    {
      "cell_type": "code",
      "source": [
        "def save_augmented_table(dataframe, prefix, primary_folder):\n",
        "  augmented_folder_path = f\"{primary_folder}_{prefix}\"\n",
        "  try:\n",
        "    os.mkdir(augmented_folder_path)\n",
        "  except:\n",
        "    ...\n",
        "\n",
        "  shutil.copy(f\"{primary_folder}/cea.csv\",f\"{augmented_folder_path}/cea.csv\")\n",
        "  shutil.copy(f\"{primary_folder}/cta.csv\",f\"{augmented_folder_path}/cta.csv\")\n",
        "  shutil.copy(f\"{primary_folder}/cpa.csv\",f\"{augmented_folder_path}/cpa.csv\")\n",
        "  shutil.copy(f\"{primary_folder}/ttd.csv\",f\"{augmented_folder_path}/ttd.csv\")\n",
        "\n",
        "  dataframe.to_csv(f\"{augmented_folder_path}/table.csv\", index=False)\n",
        "  ..."
      ],
      "metadata": {
        "id": "lrrp1lDF5mIY"
      },
      "execution_count": null,
      "outputs": []
    },
    {
      "cell_type": "markdown",
      "source": [
        "Main logic"
      ],
      "metadata": {
        "id": "guKQiHKOqzQ6"
      }
    },
    {
      "cell_type": "code",
      "source": [
        "def augmentation_process():\n",
        "\n",
        "  annotation_folders_paths = [os.path.join(root_annotation_folder, folder_path) for folder_path in os.listdir(root_annotation_folder)]\n",
        "  for annotation_folder in annotation_folders_paths:\n",
        "    sub_files_list = os.listdir(annotation_folder)\n",
        "    if 'table.csv' in sub_files_list:\n",
        "      table_path = os.path.join(annotation_folder, 'table.csv')\n",
        "      dataframe = pandas.read_csv(table_path, header=None)\n",
        "      row_nb = dataframe.shape[0]\n",
        "      col_nb = dataframe.shape[1]\n",
        "      for augmenter in augmenters:\n",
        "        augmented_dataframe = pandas.DataFrame()\n",
        "        for j in range(0, col_nb): # j is the column index\n",
        "          new_line = []\n",
        "          # Collecting data of the same column\n",
        "          for i in range(0, row_nb): # i is the row index\n",
        "            augmented_cell = augment(str(dataframe.iloc[i,j]), augmenter)\n",
        "            new_line.append(augmented_cell)\n",
        "          new_line = pandas.DataFrame(new_line)\n",
        "          augmented_dataframe = pandas.concat([augmented_dataframe, new_line], axis=1) # axis = 1 means add data as a new column\n",
        "        save_augmented_table(augmented_dataframe, augmenter['prefix'], annotation_folder)"
      ],
      "metadata": {
        "id": "iiwkGGASP4eK"
      },
      "execution_count": null,
      "outputs": []
    },
    {
      "cell_type": "markdown",
      "source": [
        "Main"
      ],
      "metadata": {
        "id": "awQi1fCEMAwG"
      }
    },
    {
      "cell_type": "code",
      "source": [
        "augmentation_process()"
      ],
      "metadata": {
        "id": "uE_dY13PL-MO"
      },
      "execution_count": null,
      "outputs": []
    }
  ]
}